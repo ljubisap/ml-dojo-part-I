{
 "cells": [
  {
   "cell_type": "markdown",
   "metadata": {
    "collapsed": true,
    "deletable": true,
    "editable": true
   },
   "source": [
    "# Do it yourself..."
   ]
  },
  {
   "cell_type": "markdown",
   "metadata": {
    "deletable": true,
    "editable": true
   },
   "source": [
    "## Python basics"
   ]
  },
  {
   "cell_type": "code",
   "execution_count": null,
   "metadata": {
    "collapsed": true,
    "deletable": true,
    "editable": true
   },
   "outputs": [],
   "source": [
    "# TODO Create one string, int, float and boolean variable and print them out"
   ]
  },
  {
   "cell_type": "markdown",
   "metadata": {
    "deletable": true,
    "editable": true
   },
   "source": [
    "Most basic Python string functions are:\n",
    "1. **len()** - checks length of the string\n",
    "usage example:\n",
    "```python\n",
    "len(string)\n",
    "```\n",
    "2. **lower()** - creates lower case string\n",
    "usage example:\n",
    "```python\n",
    "string.lower()\n",
    "```\n",
    "3. **upper()** - creates upper case string\n",
    "usage example:\n",
    "```python\n",
    "string.upper()\n",
    "```\n",
    "4. **str()** - creates string / implicit string conversion\n",
    "usage example:\n",
    "```python\n",
    "str(string)\n",
    "```"
   ]
  },
  {
   "cell_type": "code",
   "execution_count": 4,
   "metadata": {
    "collapsed": true,
    "deletable": true,
    "editable": true
   },
   "outputs": [],
   "source": [
    "# TODO Check what above given functions will produce from following variables:\n",
    "a = 'Some test string...'\n",
    "b = 'WE ARE LEARNING...'\n",
    "c = 123"
   ]
  },
  {
   "cell_type": "code",
   "execution_count": null,
   "metadata": {
    "collapsed": true,
    "deletable": true,
    "editable": true
   },
   "outputs": [],
   "source": [
    "# TODO Concatenate all variables a, b and c into one and print it out"
   ]
  },
  {
   "cell_type": "code",
   "execution_count": null,
   "metadata": {
    "collapsed": false,
    "deletable": true,
    "editable": true
   },
   "outputs": [],
   "source": [
    "# TODO String formatting, usefull for logging and debugging\n",
    "print \"The %s who %s %s!\" % (\"Knights\", \"say\", \"Ni\")"
   ]
  },
  {
   "cell_type": "code",
   "execution_count": null,
   "metadata": {
    "collapsed": false,
    "deletable": true,
    "editable": true
   },
   "outputs": [],
   "source": [
    "string1 = ' embedded string '\n",
    "string2 = ' This is one string {}'.format(string1)\n",
    "string2"
   ]
  },
  {
   "cell_type": "code",
   "execution_count": 14,
   "metadata": {
    "collapsed": false,
    "deletable": true,
    "editable": true
   },
   "outputs": [],
   "source": [
    "import random\n",
    "# TODO print the biggest number from the three given bellow num1, num2 and num3\n",
    "num1 = random.randint(1, 100) \n",
    "num2 = random.randint(1, 100) \n",
    "num3 = random.randint(1, 100) "
   ]
  },
  {
   "cell_type": "code",
   "execution_count": null,
   "metadata": {
    "collapsed": true,
    "deletable": true,
    "editable": true
   },
   "outputs": [],
   "source": [
    "# TODO if number1 is bigger, print \"number1 is bigger\"\n",
    "# if number2 is bigger, print \"number2 is bigger\"\n",
    "# if they are equal, print \"Numbers are equal, you had 1% chance to get this...\"\n",
    "number1 = random.randint(1, 100) \n",
    "number2 = random.randint(1, 100) "
   ]
  },
  {
   "cell_type": "code",
   "execution_count": null,
   "metadata": {
    "collapsed": true,
    "deletable": true,
    "editable": true
   },
   "outputs": [],
   "source": [
    "# TODO if you are German and n is greater than m \n",
    "# print upper case lc variable otherwise\n",
    "# print lower case up variable\n",
    "n = random.randint(1, 100) \n",
    "m = random.randint(1, 100) \n",
    "german = ? (True/False)\n",
    "lc = 'lower case string'\n",
    "up = 'UPPER CASE STRING'"
   ]
  },
  {
   "cell_type": "code",
   "execution_count": 15,
   "metadata": {
    "collapsed": true,
    "deletable": true,
    "editable": true
   },
   "outputs": [],
   "source": [
    "# TODO remove false Beatle form the list\n",
    "beatles = [\"john\",\"paul\",\"george\",\"ringo\",\"stuart\"]"
   ]
  },
  {
   "cell_type": "code",
   "execution_count": null,
   "metadata": {
    "collapsed": true,
    "deletable": true,
    "editable": true
   },
   "outputs": [],
   "source": [
    "# TODO print out all the beatles with the loop"
   ]
  },
  {
   "cell_type": "code",
   "execution_count": null,
   "metadata": {
    "collapsed": true,
    "deletable": true,
    "editable": true
   },
   "outputs": [],
   "source": [
    "# TODO make John and Ringo switch their places in the list"
   ]
  },
  {
   "cell_type": "code",
   "execution_count": 21,
   "metadata": {
    "collapsed": false,
    "deletable": true,
    "editable": true
   },
   "outputs": [],
   "source": [
    "# TODO So as a reminder the Beatles are John Lennon, Paul McCartney, George Harrison and Ringo Starr\n",
    "# in that respect attach proper last name to every Beatle in the list"
   ]
  },
  {
   "cell_type": "code",
   "execution_count": null,
   "metadata": {
    "collapsed": false,
    "deletable": true,
    "editable": true
   },
   "outputs": [],
   "source": [
    "# Now just execute this...\n",
    "%run man.py"
   ]
  },
  {
   "cell_type": "markdown",
   "metadata": {
    "deletable": true,
    "editable": true
   },
   "source": [
    "## Data - Titanic data set\n",
    "From a sample of the RMS Titanic data, we can see the various features present for each passenger on the ship:\n",
    "* **Survived**: Outcome of survival (0 = No; 1 = Yes)\n",
    "* **Pclass**: Socio-economic class (1 = Upper class; 2 = Middle class; 3 = Lower class)\n",
    "* **Name**: Name of passenger\n",
    "* **Sex**: Sex of the passenger\n",
    "* **Age**: Age of the passenger (Some entries contain NaN)\n",
    "* **SibSp**: Number of siblings and spouses of the passenger aboard\n",
    "* **Parch**: Number of parents and children of the passenger aboard\n",
    "* **Ticket**: Ticket number of the passenger\n",
    "* **Fare**: Fare paid by the passenger\n",
    "* **Cabin**: Cabin number of the passenger (Some entries contain NaN)\n",
    "* **Embarked**: Port of embarkation of the passenger (C = Cherbourg; Q = Queenstown; S = Southampton)\n",
    "\n",
    "More about this data set can be found on [Kaggle](https://www.kaggle.com/c/titanic) website."
   ]
  },
  {
   "cell_type": "code",
   "execution_count": 22,
   "metadata": {
    "collapsed": true,
    "deletable": true,
    "editable": true
   },
   "outputs": [],
   "source": [
    "# TODO import proper Python libraries to examine and investigate Titanic data set"
   ]
  },
  {
   "cell_type": "code",
   "execution_count": 31,
   "metadata": {
    "collapsed": false,
    "deletable": true,
    "editable": true
   },
   "outputs": [],
   "source": [
    "# TODO load Titanic training set. File name is titanic_train.csv\n",
    "import pandas as pd\n",
    "df = pd.read_csv('titanic_train.csv')"
   ]
  },
  {
   "cell_type": "markdown",
   "metadata": {
    "deletable": true,
    "editable": true
   },
   "source": [
    "## Data investigation"
   ]
  },
  {
   "cell_type": "code",
   "execution_count": 33,
   "metadata": {
    "collapsed": false,
    "deletable": true,
    "editable": true
   },
   "outputs": [],
   "source": [
    "# TODO Check does any column in Titanic data set contains NaN values"
   ]
  },
  {
   "cell_type": "code",
   "execution_count": 24,
   "metadata": {
    "collapsed": false,
    "deletable": true,
    "editable": true
   },
   "outputs": [],
   "source": [
    "# TODO Plot Pclass, Age and Fare data distribution"
   ]
  },
  {
   "cell_type": "code",
   "execution_count": null,
   "metadata": {
    "collapsed": true,
    "deletable": true,
    "editable": true
   },
   "outputs": [],
   "source": [
    "# TODO Count how many passangers are over 40 years"
   ]
  },
  {
   "cell_type": "code",
   "execution_count": null,
   "metadata": {
    "collapsed": true,
    "deletable": true,
    "editable": true
   },
   "outputs": [],
   "source": [
    "# TODO Count how many men among passangers are over 40 years"
   ]
  },
  {
   "cell_type": "code",
   "execution_count": null,
   "metadata": {
    "collapsed": true,
    "deletable": true,
    "editable": true
   },
   "outputs": [],
   "source": [
    "# TODO Count how many men among passangers are over 40 years survived"
   ]
  },
  {
   "cell_type": "code",
   "execution_count": null,
   "metadata": {
    "collapsed": true,
    "deletable": true,
    "editable": true
   },
   "outputs": [],
   "source": [
    "# TODO Plot data distribution "
   ]
  },
  {
   "cell_type": "code",
   "execution_count": null,
   "metadata": {
    "collapsed": true,
    "deletable": true,
    "editable": true
   },
   "outputs": [],
   "source": [
    "# TODO if children are considered to be under the age of 16, how many children were in Titanic"
   ]
  },
  {
   "cell_type": "code",
   "execution_count": null,
   "metadata": {
    "collapsed": true,
    "deletable": true,
    "editable": true
   },
   "outputs": [],
   "source": [
    "# TODO How many men named Edward were among the passangers"
   ]
  },
  {
   "cell_type": "code",
   "execution_count": null,
   "metadata": {
    "collapsed": false,
    "deletable": true,
    "editable": true
   },
   "outputs": [],
   "source": [
    "# TODO experiment yourself a bit ;-)"
   ]
  },
  {
   "cell_type": "code",
   "execution_count": null,
   "metadata": {
    "collapsed": false,
    "deletable": true,
    "editable": true
   },
   "outputs": [],
   "source": []
  },
  {
   "cell_type": "code",
   "execution_count": null,
   "metadata": {
    "collapsed": true,
    "deletable": true,
    "editable": true
   },
   "outputs": [],
   "source": []
  }
 ],
 "metadata": {
  "celltoolbar": "Raw Cell Format",
  "kernelspec": {
   "display_name": "Python 2",
   "language": "python",
   "name": "python2"
  },
  "language_info": {
   "codemirror_mode": {
    "name": "ipython",
    "version": 2
   },
   "file_extension": ".py",
   "mimetype": "text/x-python",
   "name": "python",
   "nbconvert_exporter": "python",
   "pygments_lexer": "ipython2",
   "version": "2.7.13"
  }
 },
 "nbformat": 4,
 "nbformat_minor": 0
}
